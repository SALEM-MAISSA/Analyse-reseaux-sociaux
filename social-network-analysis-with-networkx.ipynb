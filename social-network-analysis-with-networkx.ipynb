{
 "cells": [
  {
   "cell_type": "code",
   "execution_count": 1,
   "id": "51cfb249",
   "metadata": {
    "execution": {
     "iopub.execute_input": "2021-09-02T12:10:30.863348Z",
     "iopub.status.busy": "2021-09-02T12:10:30.862855Z",
     "iopub.status.idle": "2021-09-02T12:10:31.705742Z",
     "shell.execute_reply": "2021-09-02T12:10:31.705052Z",
     "shell.execute_reply.started": "2021-09-02T10:56:53.062120Z"
    },
    "papermill": {
     "duration": 0.879836,
     "end_time": "2021-09-02T12:10:31.705878",
     "exception": false,
     "start_time": "2021-09-02T12:10:30.826042",
     "status": "completed"
    },
    "tags": []
   },
   "outputs": [],
   "source": [
    "import pandas as pd\n",
    "import networkx as nx"
   ]
  },
  {
   "cell_type": "code",
   "execution_count": 2,
   "id": "22f8e2d7",
   "metadata": {
    "execution": {
     "iopub.execute_input": "2021-09-02T12:10:31.766925Z",
     "iopub.status.busy": "2021-09-02T12:10:31.766423Z",
     "iopub.status.idle": "2021-09-02T12:10:31.805568Z",
     "shell.execute_reply": "2021-09-02T12:10:31.806060Z",
     "shell.execute_reply.started": "2021-09-02T10:56:53.071319Z"
    },
    "papermill": {
     "duration": 0.071353,
     "end_time": "2021-09-02T12:10:31.806238",
     "exception": false,
     "start_time": "2021-09-02T12:10:31.734885",
     "status": "completed"
    },
    "tags": []
   },
   "outputs": [
    {
     "data": {
      "text/html": [
       "<div>\n",
       "<style scoped>\n",
       "    .dataframe tbody tr th:only-of-type {\n",
       "        vertical-align: middle;\n",
       "    }\n",
       "\n",
       "    .dataframe tbody tr th {\n",
       "        vertical-align: top;\n",
       "    }\n",
       "\n",
       "    .dataframe thead th {\n",
       "        text-align: right;\n",
       "    }\n",
       "</style>\n",
       "<table border=\"1\" class=\"dataframe\">\n",
       "  <thead>\n",
       "    <tr style=\"text-align: right;\">\n",
       "      <th></th>\n",
       "      <th>From</th>\n",
       "      <th>To</th>\n",
       "    </tr>\n",
       "  </thead>\n",
       "  <tbody>\n",
       "    <tr>\n",
       "      <th>0</th>\n",
       "      <td>Clinton</td>\n",
       "      <td>Hillary</td>\n",
       "    </tr>\n",
       "    <tr>\n",
       "      <th>1</th>\n",
       "      <td>Bush</td>\n",
       "      <td>Laura</td>\n",
       "    </tr>\n",
       "    <tr>\n",
       "      <th>2</th>\n",
       "      <td>Obama</td>\n",
       "      <td>Michelle</td>\n",
       "    </tr>\n",
       "    <tr>\n",
       "      <th>3</th>\n",
       "      <td>Trump</td>\n",
       "      <td>Ivanka</td>\n",
       "    </tr>\n",
       "    <tr>\n",
       "      <th>4</th>\n",
       "      <td>Clinton</td>\n",
       "      <td>G.Bush</td>\n",
       "    </tr>\n",
       "  </tbody>\n",
       "</table>\n",
       "</div>"
      ],
      "text/plain": [
       "      From        To\n",
       "0  Clinton   Hillary\n",
       "1     Bush     Laura\n",
       "2    Obama  Michelle\n",
       "3    Trump    Ivanka\n",
       "4  Clinton   G.Bush "
      ]
     },
     "execution_count": 2,
     "metadata": {},
     "output_type": "execute_result"
    }
   ],
   "source": [
    "df=pd.read_csv('../input/social-network-analysis/us_edgelist.csv')\n",
    "\n",
    "df.head()"
   ]
  },
  {
   "cell_type": "code",
   "execution_count": 3,
   "id": "dc481c5e",
   "metadata": {
    "execution": {
     "iopub.execute_input": "2021-09-02T12:10:31.896494Z",
     "iopub.status.busy": "2021-09-02T12:10:31.895784Z",
     "iopub.status.idle": "2021-09-02T12:10:31.898394Z",
     "shell.execute_reply": "2021-09-02T12:10:31.897807Z",
     "shell.execute_reply.started": "2021-09-02T10:56:53.123786Z"
    },
    "papermill": {
     "duration": 0.050821,
     "end_time": "2021-09-02T12:10:31.898530",
     "exception": false,
     "start_time": "2021-09-02T12:10:31.847709",
     "status": "completed"
    },
    "tags": []
   },
   "outputs": [],
   "source": [
    "# Read our Edgelist\n",
    "\n",
    "us_graph=nx.from_pandas_edgelist(df,source='From',target='To')"
   ]
  },
  {
   "cell_type": "code",
   "execution_count": 4,
   "id": "2b4d0814",
   "metadata": {
    "execution": {
     "iopub.execute_input": "2021-09-02T12:10:31.995855Z",
     "iopub.status.busy": "2021-09-02T12:10:31.994916Z",
     "iopub.status.idle": "2021-09-02T12:10:31.998714Z",
     "shell.execute_reply": "2021-09-02T12:10:31.998138Z",
     "shell.execute_reply.started": "2021-09-02T10:56:53.132703Z"
    },
    "papermill": {
     "duration": 0.055469,
     "end_time": "2021-09-02T12:10:31.998855",
     "exception": false,
     "start_time": "2021-09-02T12:10:31.943386",
     "status": "completed"
    },
    "tags": []
   },
   "outputs": [
    {
     "data": {
      "text/plain": [
       "networkx.classes.graph.Graph"
      ]
     },
     "execution_count": 4,
     "metadata": {},
     "output_type": "execute_result"
    }
   ],
   "source": [
    "type(us_graph)"
   ]
  },
  {
   "cell_type": "code",
   "execution_count": 5,
   "id": "110142ae",
   "metadata": {
    "execution": {
     "iopub.execute_input": "2021-09-02T12:10:32.087617Z",
     "iopub.status.busy": "2021-09-02T12:10:32.086874Z",
     "iopub.status.idle": "2021-09-02T12:10:32.091546Z",
     "shell.execute_reply": "2021-09-02T12:10:32.092075Z",
     "shell.execute_reply.started": "2021-09-02T10:56:53.147234Z"
    },
    "papermill": {
     "duration": 0.04878,
     "end_time": "2021-09-02T12:10:32.092255",
     "exception": false,
     "start_time": "2021-09-02T12:10:32.043475",
     "status": "completed"
    },
    "tags": []
   },
   "outputs": [
    {
     "data": {
      "text/plain": [
       "'Name: \\nType: Graph\\nNumber of nodes: 19\\nNumber of edges: 21\\nAverage degree:   2.2105'"
      ]
     },
     "execution_count": 5,
     "metadata": {},
     "output_type": "execute_result"
    }
   ],
   "source": [
    "nx.info(us_graph)"
   ]
  },
  {
   "cell_type": "code",
   "execution_count": 6,
   "id": "432124da",
   "metadata": {
    "execution": {
     "iopub.execute_input": "2021-09-02T12:10:32.184784Z",
     "iopub.status.busy": "2021-09-02T12:10:32.183523Z",
     "iopub.status.idle": "2021-09-02T12:10:32.189811Z",
     "shell.execute_reply": "2021-09-02T12:10:32.189068Z",
     "shell.execute_reply.started": "2021-09-02T10:56:53.162578Z"
    },
    "papermill": {
     "duration": 0.053634,
     "end_time": "2021-09-02T12:10:32.189969",
     "exception": false,
     "start_time": "2021-09-02T12:10:32.136335",
     "status": "completed"
    },
    "tags": []
   },
   "outputs": [
    {
     "data": {
      "text/plain": [
       "NodeView(('Clinton', 'Hillary', 'Bush', 'Laura', 'Obama', 'Michelle', 'Trump', ' Ivanka', ' G.Bush ', 'Dole', 'Al Gore', 'Kerry', 'McCain', 'Romney', 'Bill', 'Ivanka', 'J. Thorn', 'T.Aitcheson', '\\tCindy'))"
      ]
     },
     "execution_count": 6,
     "metadata": {},
     "output_type": "execute_result"
    }
   ],
   "source": [
    "# Check all Nodes/Object/People\n",
    "\n",
    "us_graph.nodes()"
   ]
  },
  {
   "cell_type": "code",
   "execution_count": 7,
   "id": "0702a051",
   "metadata": {
    "execution": {
     "iopub.execute_input": "2021-09-02T12:10:32.282825Z",
     "iopub.status.busy": "2021-09-02T12:10:32.281946Z",
     "iopub.status.idle": "2021-09-02T12:10:32.286936Z",
     "shell.execute_reply": "2021-09-02T12:10:32.286397Z",
     "shell.execute_reply.started": "2021-09-02T10:56:53.177404Z"
    },
    "papermill": {
     "duration": 0.052472,
     "end_time": "2021-09-02T12:10:32.287086",
     "exception": false,
     "start_time": "2021-09-02T12:10:32.234614",
     "status": "completed"
    },
    "tags": []
   },
   "outputs": [
    {
     "data": {
      "text/plain": [
       "19"
      ]
     },
     "execution_count": 7,
     "metadata": {},
     "output_type": "execute_result"
    }
   ],
   "source": [
    "len(us_graph.nodes())"
   ]
  },
  {
   "cell_type": "code",
   "execution_count": 8,
   "id": "e18b36cf",
   "metadata": {
    "execution": {
     "iopub.execute_input": "2021-09-02T12:10:32.377414Z",
     "iopub.status.busy": "2021-09-02T12:10:32.376778Z",
     "iopub.status.idle": "2021-09-02T12:10:32.380275Z",
     "shell.execute_reply": "2021-09-02T12:10:32.379666Z",
     "shell.execute_reply.started": "2021-09-02T10:56:53.193685Z"
    },
    "papermill": {
     "duration": 0.050425,
     "end_time": "2021-09-02T12:10:32.380397",
     "exception": false,
     "start_time": "2021-09-02T12:10:32.329972",
     "status": "completed"
    },
    "tags": []
   },
   "outputs": [
    {
     "data": {
      "text/plain": [
       "EdgeView([('Clinton', 'Hillary'), ('Clinton', ' G.Bush '), ('Clinton', 'Dole'), ('Hillary', 'Trump'), ('Hillary', 'Laura'), ('Hillary', 'Michelle'), ('Bush', 'Laura'), ('Bush', 'Al Gore'), ('Bush', 'Kerry'), ('Bush', 'Bill'), ('Bush', 'Obama'), ('Laura', 'Michelle'), ('Obama', 'Michelle'), ('Obama', 'McCain'), ('Obama', 'Romney'), ('Obama', 'Trump'), ('Michelle', 'Ivanka'), ('Trump', ' Ivanka'), ('Al Gore', 'T.Aitcheson'), ('Kerry', 'J. Thorn'), ('McCain', '\\tCindy')])"
      ]
     },
     "execution_count": 8,
     "metadata": {},
     "output_type": "execute_result"
    }
   ],
   "source": [
    "us_graph.edges()"
   ]
  },
  {
   "cell_type": "code",
   "execution_count": 9,
   "id": "eea6ca64",
   "metadata": {
    "execution": {
     "iopub.execute_input": "2021-09-02T12:10:32.470991Z",
     "iopub.status.busy": "2021-09-02T12:10:32.470408Z",
     "iopub.status.idle": "2021-09-02T12:10:32.472647Z",
     "shell.execute_reply": "2021-09-02T12:10:32.473247Z",
     "shell.execute_reply.started": "2021-09-02T10:56:53.207666Z"
    },
    "papermill": {
     "duration": 0.050359,
     "end_time": "2021-09-02T12:10:32.473411",
     "exception": false,
     "start_time": "2021-09-02T12:10:32.423052",
     "status": "completed"
    },
    "tags": []
   },
   "outputs": [
    {
     "data": {
      "text/plain": [
       "21"
      ]
     },
     "execution_count": 9,
     "metadata": {},
     "output_type": "execute_result"
    }
   ],
   "source": [
    "len(us_graph.edges())"
   ]
  },
  {
   "cell_type": "code",
   "execution_count": 10,
   "id": "5d3775c5",
   "metadata": {
    "execution": {
     "iopub.execute_input": "2021-09-02T12:10:32.563948Z",
     "iopub.status.busy": "2021-09-02T12:10:32.563391Z",
     "iopub.status.idle": "2021-09-02T12:10:32.568851Z",
     "shell.execute_reply": "2021-09-02T12:10:32.568215Z",
     "shell.execute_reply.started": "2021-09-02T10:56:53.221268Z"
    },
    "papermill": {
     "duration": 0.052052,
     "end_time": "2021-09-02T12:10:32.568986",
     "exception": false,
     "start_time": "2021-09-02T12:10:32.516934",
     "status": "completed"
    },
    "tags": []
   },
   "outputs": [],
   "source": [
    "us_graph.add_edge('Franklin','Lincoln')"
   ]
  },
  {
   "cell_type": "code",
   "execution_count": 11,
   "id": "c838d294",
   "metadata": {
    "execution": {
     "iopub.execute_input": "2021-09-02T12:10:32.663091Z",
     "iopub.status.busy": "2021-09-02T12:10:32.662452Z",
     "iopub.status.idle": "2021-09-02T12:10:32.665596Z",
     "shell.execute_reply": "2021-09-02T12:10:32.664949Z",
     "shell.execute_reply.started": "2021-09-02T10:56:53.232542Z"
    },
    "papermill": {
     "duration": 0.052219,
     "end_time": "2021-09-02T12:10:32.665729",
     "exception": false,
     "start_time": "2021-09-02T12:10:32.613510",
     "status": "completed"
    },
    "tags": []
   },
   "outputs": [
    {
     "data": {
      "text/plain": [
       "NodeView(('Clinton', 'Hillary', 'Bush', 'Laura', 'Obama', 'Michelle', 'Trump', ' Ivanka', ' G.Bush ', 'Dole', 'Al Gore', 'Kerry', 'McCain', 'Romney', 'Bill', 'Ivanka', 'J. Thorn', 'T.Aitcheson', '\\tCindy', 'Franklin', 'Lincoln'))"
      ]
     },
     "execution_count": 11,
     "metadata": {},
     "output_type": "execute_result"
    }
   ],
   "source": [
    "us_graph.nodes()"
   ]
  },
  {
   "cell_type": "markdown",
   "id": "a6b6b29f",
   "metadata": {
    "papermill": {
     "duration": 0.044049,
     "end_time": "2021-09-02T12:10:32.753959",
     "exception": false,
     "start_time": "2021-09-02T12:10:32.709910",
     "status": "completed"
    },
    "tags": []
   },
   "source": [
    "## Visualization "
   ]
  },
  {
   "cell_type": "code",
   "execution_count": 12,
   "id": "a92a28e5",
   "metadata": {
    "execution": {
     "iopub.execute_input": "2021-09-02T12:10:32.848859Z",
     "iopub.status.busy": "2021-09-02T12:10:32.848191Z",
     "iopub.status.idle": "2021-09-02T12:10:32.850567Z",
     "shell.execute_reply": "2021-09-02T12:10:32.851038Z",
     "shell.execute_reply.started": "2021-09-02T11:05:37.927468Z"
    },
    "papermill": {
     "duration": 0.052521,
     "end_time": "2021-09-02T12:10:32.851211",
     "exception": false,
     "start_time": "2021-09-02T12:10:32.798690",
     "status": "completed"
    },
    "tags": []
   },
   "outputs": [],
   "source": [
    "# Visualization\n",
    "\n",
    "import matplotlib.pyplot as plt \n",
    "%matplotlib inline "
   ]
  },
  {
   "cell_type": "code",
   "execution_count": 13,
   "id": "c2c96a76",
   "metadata": {
    "execution": {
     "iopub.execute_input": "2021-09-02T12:10:32.957775Z",
     "iopub.status.busy": "2021-09-02T12:10:32.957065Z",
     "iopub.status.idle": "2021-09-02T12:10:33.083305Z",
     "shell.execute_reply": "2021-09-02T12:10:33.082553Z",
     "shell.execute_reply.started": "2021-09-02T11:05:56.442533Z"
    },
    "papermill": {
     "duration": 0.188042,
     "end_time": "2021-09-02T12:10:33.083437",
     "exception": false,
     "start_time": "2021-09-02T12:10:32.895395",
     "status": "completed"
    },
    "tags": []
   },
   "outputs": [
    {
     "data": {
      "image/png": "[encoded data removed]",
      "text/plain": [
       "<Figure size 432x288 with 1 Axes>"
      ]
     },
     "metadata": {},
     "output_type": "display_data"
    }
   ],
   "source": [
    "nx.draw(us_graph)"
   ]
  },
  {
   "cell_type": "code",
   "execution_count": 14,
   "id": "e637430b",
   "metadata": {
    "execution": {
     "iopub.execute_input": "2021-09-02T12:10:33.191420Z",
     "iopub.status.busy": "2021-09-02T12:10:33.190543Z",
     "iopub.status.idle": "2021-09-02T12:10:33.341939Z",
     "shell.execute_reply": "2021-09-02T12:10:33.341252Z",
     "shell.execute_reply.started": "2021-09-02T11:12:46.811073Z"
    },
    "papermill": {
     "duration": 0.213308,
     "end_time": "2021-09-02T12:10:33.342069",
     "exception": false,
     "start_time": "2021-09-02T12:10:33.128761",
     "status": "completed"
    },
    "tags": []
   },
   "outputs": [
    {
     "name": "stderr",
     "output_type": "stream",
     "text": [
      "/opt/conda/lib/python3.7/site-packages/matplotlib/backends/backend_agg.py:240: RuntimeWarning: Glyph 9 missing from current font.\n",
      "  font.set_text(s, 0.0, flags=flags)\n",
      "/opt/conda/lib/python3.7/site-packages/matplotlib/backends/backend_agg.py:203: RuntimeWarning: Glyph 9 missing from current font.\n",
      "  font.set_text(s, 0, flags=flags)\n"
     ]
    },
    {
     "data": {
      "image/png": "[encoded data removed]",
      "text/plain": [
       "<Figure size 432x288 with 1 Axes>"
      ]
     },
     "metadata": {},
     "output_type": "display_data"
    }
   ],
   "source": [
    "nx.draw(us_graph,with_labels=True,node_color='r')"
   ]
  },
  {
   "cell_type": "code",
   "execution_count": 15,
   "id": "06947179",
   "metadata": {
    "execution": {
     "iopub.execute_input": "2021-09-02T12:10:33.440470Z",
     "iopub.status.busy": "2021-09-02T12:10:33.439534Z",
     "iopub.status.idle": "2021-09-02T12:10:33.597689Z",
     "shell.execute_reply": "2021-09-02T12:10:33.597200Z",
     "shell.execute_reply.started": "2021-09-02T11:18:42.538187Z"
    },
    "papermill": {
     "duration": 0.209301,
     "end_time": "2021-09-02T12:10:33.597798",
     "exception": false,
     "start_time": "2021-09-02T12:10:33.388497",
     "status": "completed"
    },
    "tags": []
   },
   "outputs": [
    {
     "data": {
      "image/png": "[encoded data removed]",
      "text/plain": [
       "<Figure size 432x288 with 1 Axes>"
      ]
     },
     "metadata": {},
     "output_type": "display_data"
    }
   ],
   "source": [
    "#MEthode 2 \n",
    "\n",
    "nx.draw_networkx(us_graph)"
   ]
  },
  {
   "cell_type": "code",
   "execution_count": 16,
   "id": "4b0292bc",
   "metadata": {
    "execution": {
     "iopub.execute_input": "2021-09-02T12:10:33.668137Z",
     "iopub.status.busy": "2021-09-02T12:10:33.667640Z",
     "iopub.status.idle": "2021-09-02T12:10:33.830705Z",
     "shell.execute_reply": "2021-09-02T12:10:33.830135Z",
     "shell.execute_reply.started": "2021-09-02T11:37:02.083012Z"
    },
    "papermill": {
     "duration": 0.200987,
     "end_time": "2021-09-02T12:10:33.830856",
     "exception": false,
     "start_time": "2021-09-02T12:10:33.629869",
     "status": "completed"
    },
    "tags": []
   },
   "outputs": [
    {
     "data": {
      "image/png": "[encoded data removed]",
      "text/plain": [
       "<Figure size 720x720 with 1 Axes>"
      ]
     },
     "metadata": {},
     "output_type": "display_data"
    }
   ],
   "source": [
    "plt.figure(figsize=(10,10))\n",
    "nx.draw_networkx(us_graph)\n",
    "plt.show()"
   ]
  },
  {
   "cell_type": "markdown",
   "id": "095e8a07",
   "metadata": {
    "papermill": {
     "duration": 0.048623,
     "end_time": "2021-09-02T12:10:33.929412",
     "exception": false,
     "start_time": "2021-09-02T12:10:33.880789",
     "status": "completed"
    },
    "tags": []
   },
   "source": [
    "## Analysis "
   ]
  },
  {
   "cell_type": "code",
   "execution_count": 17,
   "id": "77cef966",
   "metadata": {
    "execution": {
     "iopub.execute_input": "2021-09-02T12:10:34.032300Z",
     "iopub.status.busy": "2021-09-02T12:10:34.031635Z",
     "iopub.status.idle": "2021-09-02T12:10:34.036128Z",
     "shell.execute_reply": "2021-09-02T12:10:34.035689Z",
     "shell.execute_reply.started": "2021-09-02T11:39:09.523692Z"
    },
    "papermill": {
     "duration": 0.058219,
     "end_time": "2021-09-02T12:10:34.036241",
     "exception": false,
     "start_time": "2021-09-02T12:10:33.978022",
     "status": "completed"
    },
    "tags": []
   },
   "outputs": [
    {
     "data": {
      "text/plain": [
       "DegreeView({'Clinton': 3, 'Hillary': 4, 'Bush': 5, 'Laura': 3, 'Obama': 5, 'Michelle': 4, 'Trump': 3, ' Ivanka': 1, ' G.Bush ': 1, 'Dole': 1, 'Al Gore': 2, 'Kerry': 2, 'McCain': 2, 'Romney': 1, 'Bill': 1, 'Ivanka': 1, 'J. Thorn': 1, 'T.Aitcheson': 1, '\\tCindy': 1, 'Franklin': 1, 'Lincoln': 1})"
      ]
     },
     "execution_count": 17,
     "metadata": {},
     "output_type": "execute_result"
    }
   ],
   "source": [
    "# General Connection \n",
    "nx.degree(us_graph)"
   ]
  },
  {
   "cell_type": "code",
   "execution_count": 18,
   "id": "f080e243",
   "metadata": {
    "execution": {
     "iopub.execute_input": "2021-09-02T12:10:34.106998Z",
     "iopub.status.busy": "2021-09-02T12:10:34.106565Z",
     "iopub.status.idle": "2021-09-02T12:10:34.109447Z",
     "shell.execute_reply": "2021-09-02T12:10:34.108969Z",
     "shell.execute_reply.started": "2021-09-02T11:39:47.943479Z"
    },
    "papermill": {
     "duration": 0.039928,
     "end_time": "2021-09-02T12:10:34.109550",
     "exception": false,
     "start_time": "2021-09-02T12:10:34.069622",
     "status": "completed"
    },
    "tags": []
   },
   "outputs": [
    {
     "data": {
      "text/plain": [
       "5"
      ]
     },
     "execution_count": 18,
     "metadata": {},
     "output_type": "execute_result"
    }
   ],
   "source": [
    "# Degree of Connecion \n",
    "\n",
    "nx.degree(us_graph,'Obama')"
   ]
  },
  {
   "cell_type": "code",
   "execution_count": 19,
   "id": "37b1cfd3",
   "metadata": {
    "execution": {
     "iopub.execute_input": "2021-09-02T12:10:34.179855Z",
     "iopub.status.busy": "2021-09-02T12:10:34.179421Z",
     "iopub.status.idle": "2021-09-02T12:10:34.182309Z",
     "shell.execute_reply": "2021-09-02T12:10:34.181855Z",
     "shell.execute_reply.started": "2021-09-02T11:41:03.101629Z"
    },
    "papermill": {
     "duration": 0.03961,
     "end_time": "2021-09-02T12:10:34.182401",
     "exception": false,
     "start_time": "2021-09-02T12:10:34.142791",
     "status": "completed"
    },
    "tags": []
   },
   "outputs": [
    {
     "data": {
      "text/plain": [
       "{'Clinton': 0.15000000000000002,\n",
       " 'Hillary': 0.2,\n",
       " 'Bush': 0.25,\n",
       " 'Laura': 0.15000000000000002,\n",
       " 'Obama': 0.25,\n",
       " 'Michelle': 0.2,\n",
       " 'Trump': 0.15000000000000002,\n",
       " ' Ivanka': 0.05,\n",
       " ' G.Bush ': 0.05,\n",
       " 'Dole': 0.05,\n",
       " 'Al Gore': 0.1,\n",
       " 'Kerry': 0.1,\n",
       " 'McCain': 0.1,\n",
       " 'Romney': 0.05,\n",
       " 'Bill': 0.05,\n",
       " 'Ivanka': 0.05,\n",
       " 'J. Thorn': 0.05,\n",
       " 'T.Aitcheson': 0.05,\n",
       " '\\tCindy': 0.05,\n",
       " 'Franklin': 0.05,\n",
       " 'Lincoln': 0.05}"
      ]
     },
     "execution_count": 19,
     "metadata": {},
     "output_type": "execute_result"
    }
   ],
   "source": [
    "# Most Influential\n",
    "nx.degree_centrality(us_graph)"
   ]
  },
  {
   "cell_type": "code",
   "execution_count": 20,
   "id": "72b050c7",
   "metadata": {
    "execution": {
     "iopub.execute_input": "2021-09-02T12:10:34.253152Z",
     "iopub.status.busy": "2021-09-02T12:10:34.252721Z",
     "iopub.status.idle": "2021-09-02T12:10:34.256029Z",
     "shell.execute_reply": "2021-09-02T12:10:34.255642Z",
     "shell.execute_reply.started": "2021-09-02T11:42:03.835202Z"
    },
    "papermill": {
     "duration": 0.040789,
     "end_time": "2021-09-02T12:10:34.256121",
     "exception": false,
     "start_time": "2021-09-02T12:10:34.215332",
     "status": "completed"
    },
    "tags": []
   },
   "outputs": [
    {
     "data": {
      "text/plain": [
       "['\\tCindy',\n",
       " ' G.Bush ',\n",
       " ' Ivanka',\n",
       " 'Al Gore',\n",
       " 'Bill',\n",
       " 'Bush',\n",
       " 'Clinton',\n",
       " 'Dole',\n",
       " 'Franklin',\n",
       " 'Hillary',\n",
       " 'Ivanka',\n",
       " 'J. Thorn',\n",
       " 'Kerry',\n",
       " 'Laura',\n",
       " 'Lincoln',\n",
       " 'McCain',\n",
       " 'Michelle',\n",
       " 'Obama',\n",
       " 'Romney',\n",
       " 'T.Aitcheson',\n",
       " 'Trump']"
      ]
     },
     "execution_count": 20,
     "metadata": {},
     "output_type": "execute_result"
    }
   ],
   "source": [
    "sorted(nx.degree_centrality(us_graph))"
   ]
  },
  {
   "cell_type": "code",
   "execution_count": 21,
   "id": "b455c668",
   "metadata": {
    "execution": {
     "iopub.execute_input": "2021-09-02T12:10:34.326488Z",
     "iopub.status.busy": "2021-09-02T12:10:34.326051Z",
     "iopub.status.idle": "2021-09-02T12:10:34.329673Z",
     "shell.execute_reply": "2021-09-02T12:10:34.329160Z",
     "shell.execute_reply.started": "2021-09-02T11:44:54.390634Z"
    },
    "papermill": {
     "duration": 0.040468,
     "end_time": "2021-09-02T12:10:34.329794",
     "exception": false,
     "start_time": "2021-09-02T12:10:34.289326",
     "status": "completed"
    },
    "tags": []
   },
   "outputs": [],
   "source": [
    "most_inf=nx.degree_centrality(us_graph)"
   ]
  },
  {
   "cell_type": "code",
   "execution_count": 22,
   "id": "88d08ba0",
   "metadata": {
    "execution": {
     "iopub.execute_input": "2021-09-02T12:10:34.400378Z",
     "iopub.status.busy": "2021-09-02T12:10:34.399683Z",
     "iopub.status.idle": "2021-09-02T12:10:34.412239Z",
     "shell.execute_reply": "2021-09-02T12:10:34.411457Z",
     "shell.execute_reply.started": "2021-09-02T11:45:44.967012Z"
    },
    "papermill": {
     "duration": 0.048945,
     "end_time": "2021-09-02T12:10:34.412399",
     "exception": false,
     "start_time": "2021-09-02T12:10:34.363454",
     "status": "completed"
    },
    "tags": []
   },
   "outputs": [
    {
     "name": "stdout",
     "output_type": "stream",
     "text": [
      "Bush 0.25\n",
      "Obama 0.25\n",
      "Hillary 0.2\n",
      "Michelle 0.2\n",
      "Clinton 0.15000000000000002\n",
      "Laura 0.15000000000000002\n",
      "Trump 0.15000000000000002\n",
      "Al Gore 0.1\n",
      "Kerry 0.1\n",
      "McCain 0.1\n",
      " Ivanka 0.05\n",
      " G.Bush  0.05\n",
      "Dole 0.05\n",
      "Romney 0.05\n",
      "Bill 0.05\n",
      "Ivanka 0.05\n",
      "J. Thorn 0.05\n",
      "T.Aitcheson 0.05\n",
      "\tCindy 0.05\n",
      "Franklin 0.05\n",
      "Lincoln 0.05\n"
     ]
    }
   ],
   "source": [
    "for w in sorted(most_inf, key=most_inf.get,reverse=True):\n",
    "    print(w, most_inf[w])"
   ]
  },
  {
   "cell_type": "code",
   "execution_count": 23,
   "id": "d08e65ec",
   "metadata": {
    "execution": {
     "iopub.execute_input": "2021-09-02T12:10:34.524077Z",
     "iopub.status.busy": "2021-09-02T12:10:34.523420Z",
     "iopub.status.idle": "2021-09-02T12:10:34.527592Z",
     "shell.execute_reply": "2021-09-02T12:10:34.527015Z",
     "shell.execute_reply.started": "2021-09-02T11:51:39.967567Z"
    },
    "papermill": {
     "duration": 0.063065,
     "end_time": "2021-09-02T12:10:34.527726",
     "exception": false,
     "start_time": "2021-09-02T12:10:34.464661",
     "status": "completed"
    },
    "tags": []
   },
   "outputs": [
    {
     "data": {
      "text/plain": [
       "{'Clinton': 0.15152928713724503,\n",
       " 'Hillary': 0.38442159441543317,\n",
       " 'Bush': 0.3696180606401399,\n",
       " 'Laura': 0.36852963127385646,\n",
       " 'Obama': 0.4266565483896092,\n",
       " 'Michelle': 0.41352797669954305,\n",
       " 'Trump': 0.28433452527063385,\n",
       " ' Ivanka': 0.08974661863249653,\n",
       " ' G.Bush ': 0.04782770964575167,\n",
       " 'Dole': 0.04782770964575167,\n",
       " 'Al Gore': 0.12957724264199433,\n",
       " 'Kerry': 0.12957724264199433,\n",
       " 'McCain': 0.14957130173861363,\n",
       " 'Romney': 0.13466969692277045,\n",
       " 'Bill': 0.11666706333937449,\n",
       " 'Ivanka': 0.13052504916898053,\n",
       " 'J. Thorn': 0.04090043619100648,\n",
       " 'T.Aitcheson': 0.04090043619100648,\n",
       " '\\tCindy': 0.047210688306275804,\n",
       " 'Franklin': 6.994359082336066e-10,\n",
       " 'Lincoln': 6.994359082336066e-10}"
      ]
     },
     "execution_count": 23,
     "metadata": {},
     "output_type": "execute_result"
    }
   ],
   "source": [
    "# Most important Connection \n",
    "nx.eigenvector_centrality(us_graph)"
   ]
  },
  {
   "cell_type": "code",
   "execution_count": 24,
   "id": "db441b4b",
   "metadata": {
    "execution": {
     "iopub.execute_input": "2021-09-02T12:10:34.635215Z",
     "iopub.status.busy": "2021-09-02T12:10:34.634743Z",
     "iopub.status.idle": "2021-09-02T12:10:34.638159Z",
     "shell.execute_reply": "2021-09-02T12:10:34.637755Z",
     "shell.execute_reply.started": "2021-09-02T11:53:26.648741Z"
    },
    "papermill": {
     "duration": 0.059523,
     "end_time": "2021-09-02T12:10:34.638312",
     "exception": false,
     "start_time": "2021-09-02T12:10:34.578789",
     "status": "completed"
    },
    "tags": []
   },
   "outputs": [],
   "source": [
    "mil=nx.eigenvector_centrality(us_graph)"
   ]
  },
  {
   "cell_type": "code",
   "execution_count": 25,
   "id": "e9ddcd96",
   "metadata": {
    "execution": {
     "iopub.execute_input": "2021-09-02T12:10:34.715415Z",
     "iopub.status.busy": "2021-09-02T12:10:34.714759Z",
     "iopub.status.idle": "2021-09-02T12:10:34.721329Z",
     "shell.execute_reply": "2021-09-02T12:10:34.720641Z",
     "shell.execute_reply.started": "2021-09-02T11:53:50.323159Z"
    },
    "papermill": {
     "duration": 0.047696,
     "end_time": "2021-09-02T12:10:34.721471",
     "exception": false,
     "start_time": "2021-09-02T12:10:34.673775",
     "status": "completed"
    },
    "tags": []
   },
   "outputs": [
    {
     "name": "stdout",
     "output_type": "stream",
     "text": [
      "Obama 0.4266565483896092\n",
      "Michelle 0.41352797669954305\n",
      "Hillary 0.38442159441543317\n",
      "Bush 0.3696180606401399\n",
      "Laura 0.36852963127385646\n",
      "Trump 0.28433452527063385\n",
      "Clinton 0.15152928713724503\n",
      "McCain 0.14957130173861363\n",
      "Romney 0.13466969692277045\n",
      "Ivanka 0.13052504916898053\n",
      "Al Gore 0.12957724264199433\n",
      "Kerry 0.12957724264199433\n",
      "Bill 0.11666706333937449\n",
      " Ivanka 0.08974661863249653\n",
      " G.Bush  0.04782770964575167\n",
      "Dole 0.04782770964575167\n",
      "\tCindy 0.047210688306275804\n",
      "J. Thorn 0.04090043619100648\n",
      "T.Aitcheson 0.04090043619100648\n",
      "Franklin 6.994359082336066e-10\n",
      "Lincoln 6.994359082336066e-10\n"
     ]
    }
   ],
   "source": [
    "for w in sorted(mil, key=mil.get,reverse=True):\n",
    "    print(w, mil[w])"
   ]
  },
  {
   "cell_type": "code",
   "execution_count": 26,
   "id": "97b15b91",
   "metadata": {
    "execution": {
     "iopub.execute_input": "2021-09-02T12:10:34.829593Z",
     "iopub.status.busy": "2021-09-02T12:10:34.828959Z",
     "iopub.status.idle": "2021-09-02T12:10:34.833806Z",
     "shell.execute_reply": "2021-09-02T12:10:34.833231Z",
     "shell.execute_reply.started": "2021-09-02T11:56:04.779239Z"
    },
    "papermill": {
     "duration": 0.060379,
     "end_time": "2021-09-02T12:10:34.833925",
     "exception": false,
     "start_time": "2021-09-02T12:10:34.773546",
     "status": "completed"
    },
    "tags": []
   },
   "outputs": [
    {
     "data": {
      "text/plain": [
       "['Obama', 'Trump', 'Hillary', 'Clinton']"
      ]
     },
     "execution_count": 26,
     "metadata": {},
     "output_type": "execute_result"
    }
   ],
   "source": [
    "# Q: What is te shortest connection between obama and Bill Clintion \n",
    "\n",
    "nx.shortest_path(us_graph,'Obama','Clinton')"
   ]
  },
  {
   "cell_type": "code",
   "execution_count": 27,
   "id": "3eb8a01f",
   "metadata": {
    "execution": {
     "iopub.execute_input": "2021-09-02T12:10:34.942664Z",
     "iopub.status.busy": "2021-09-02T12:10:34.942001Z",
     "iopub.status.idle": "2021-09-02T12:10:34.946120Z",
     "shell.execute_reply": "2021-09-02T12:10:34.945417Z",
     "shell.execute_reply.started": "2021-09-02T11:56:49.731738Z"
    },
    "papermill": {
     "duration": 0.060575,
     "end_time": "2021-09-02T12:10:34.946289",
     "exception": false,
     "start_time": "2021-09-02T12:10:34.885714",
     "status": "completed"
    },
    "tags": []
   },
   "outputs": [
    {
     "data": {
      "text/plain": [
       "['Trump', 'Obama', 'Bush']"
      ]
     },
     "execution_count": 27,
     "metadata": {},
     "output_type": "execute_result"
    }
   ],
   "source": [
    "nx.shortest_path(us_graph,'Trump','Bush')"
   ]
  },
  {
   "cell_type": "code",
   "execution_count": 28,
   "id": "90b40d82",
   "metadata": {
    "execution": {
     "iopub.execute_input": "2021-09-02T12:10:35.059156Z",
     "iopub.status.busy": "2021-09-02T12:10:35.058391Z",
     "iopub.status.idle": "2021-09-02T12:10:35.208880Z",
     "shell.execute_reply": "2021-09-02T12:10:35.209368Z",
     "shell.execute_reply.started": "2021-09-02T11:57:59.370721Z"
    },
    "papermill": {
     "duration": 0.210608,
     "end_time": "2021-09-02T12:10:35.209536",
     "exception": false,
     "start_time": "2021-09-02T12:10:34.998928",
     "status": "completed"
    },
    "tags": []
   },
   "outputs": [
    {
     "data": {
      "image/png": "[encoded data removed]",
      "text/plain": [
       "<Figure size 720x720 with 1 Axes>"
      ]
     },
     "metadata": {},
     "output_type": "display_data"
    }
   ],
   "source": [
    "# Betweener Centrality \n",
    "\n",
    "plt.figure(figsize=(10,10))\n",
    "nx.draw_networkx(us_graph)\n",
    "plt.show()"
   ]
  },
  {
   "cell_type": "code",
   "execution_count": 29,
   "id": "ad5143f7",
   "metadata": {
    "execution": {
     "iopub.execute_input": "2021-09-02T12:10:35.325299Z",
     "iopub.status.busy": "2021-09-02T12:10:35.324599Z",
     "iopub.status.idle": "2021-09-02T12:10:35.327759Z",
     "shell.execute_reply": "2021-09-02T12:10:35.327139Z",
     "shell.execute_reply.started": "2021-09-02T11:58:42.501361Z"
    },
    "papermill": {
     "duration": 0.0644,
     "end_time": "2021-09-02T12:10:35.327890",
     "exception": false,
     "start_time": "2021-09-02T12:10:35.263490",
     "status": "completed"
    },
    "tags": []
   },
   "outputs": [
    {
     "data": {
      "text/plain": [
       "{'Clinton': 0.17368421052631577,\n",
       " 'Hillary': 0.25789473684210523,\n",
       " 'Bush': 0.39473684210526316,\n",
       " 'Laura': 0.15789473684210525,\n",
       " 'Obama': 0.3526315789473684,\n",
       " 'Michelle': 0.14210526315789473,\n",
       " 'Trump': 0.13157894736842105,\n",
       " ' Ivanka': 0.0,\n",
       " ' G.Bush ': 0.0,\n",
       " 'Dole': 0.0,\n",
       " 'Al Gore': 0.08947368421052632,\n",
       " 'Kerry': 0.08947368421052632,\n",
       " 'McCain': 0.08947368421052632,\n",
       " 'Romney': 0.0,\n",
       " 'Bill': 0.0,\n",
       " 'Ivanka': 0.0,\n",
       " 'J. Thorn': 0.0,\n",
       " 'T.Aitcheson': 0.0,\n",
       " '\\tCindy': 0.0,\n",
       " 'Franklin': 0.0,\n",
       " 'Lincoln': 0.0}"
      ]
     },
     "execution_count": 29,
     "metadata": {},
     "output_type": "execute_result"
    }
   ],
   "source": [
    "nx.betweenness_centrality(us_graph)"
   ]
  },
  {
   "cell_type": "code",
   "execution_count": 30,
   "id": "49ccb490",
   "metadata": {
    "execution": {
     "iopub.execute_input": "2021-09-02T12:10:35.443913Z",
     "iopub.status.busy": "2021-09-02T12:10:35.442993Z",
     "iopub.status.idle": "2021-09-02T12:10:35.450160Z",
     "shell.execute_reply": "2021-09-02T12:10:35.450689Z",
     "shell.execute_reply.started": "2021-09-02T12:02:54.368299Z"
    },
    "papermill": {
     "duration": 0.069038,
     "end_time": "2021-09-02T12:10:35.450864",
     "exception": false,
     "start_time": "2021-09-02T12:10:35.381826",
     "status": "completed"
    },
    "tags": []
   },
   "outputs": [
    {
     "name": "stdout",
     "output_type": "stream",
     "text": [
      "Bush 0.39473684210526316\n",
      "Obama 0.3526315789473684\n",
      "Hillary 0.25789473684210523\n",
      "Clinton 0.17368421052631577\n",
      "Laura 0.15789473684210525\n",
      "Michelle 0.14210526315789473\n",
      "Trump 0.13157894736842105\n",
      "Al Gore 0.08947368421052632\n",
      "Kerry 0.08947368421052632\n",
      "McCain 0.08947368421052632\n",
      " Ivanka 0.0\n",
      " G.Bush  0.0\n",
      "Dole 0.0\n",
      "Romney 0.0\n",
      "Bill 0.0\n",
      "Ivanka 0.0\n",
      "J. Thorn 0.0\n",
      "T.Aitcheson 0.0\n",
      "\tCindy 0.0\n",
      "Franklin 0.0\n",
      "Lincoln 0.0\n"
     ]
    }
   ],
   "source": [
    "best_conn=nx.betweenness_centrality(us_graph)\n",
    "for w in sorted(best_conn, key=best_conn.get,reverse=True):\n",
    "    print(w, best_conn[w])"
   ]
  },
  {
   "cell_type": "markdown",
   "id": "ccad40b0",
   "metadata": {
    "papermill": {
     "duration": 0.054038,
     "end_time": "2021-09-02T12:10:35.559522",
     "exception": false,
     "start_time": "2021-09-02T12:10:35.505484",
     "status": "completed"
    },
    "tags": []
   },
   "source": [
    "## Building A Subgroup\n",
    "* Retrieve all the nodes connected to a given node within a NetworkX graph \n",
    "    - Method 1 Breadth-first search\n",
    "    - Method 2 nx.node_connected_component(G,n)\n",
    "    "
   ]
  },
  {
   "cell_type": "code",
   "execution_count": 31,
   "id": "9b025a1a",
   "metadata": {
    "execution": {
     "iopub.execute_input": "2021-09-02T12:10:35.673401Z",
     "iopub.status.busy": "2021-09-02T12:10:35.672722Z",
     "iopub.status.idle": "2021-09-02T12:10:35.675165Z",
     "shell.execute_reply": "2021-09-02T12:10:35.674492Z",
     "shell.execute_reply.started": "2021-09-02T12:06:03.659719Z"
    },
    "papermill": {
     "duration": 0.06125,
     "end_time": "2021-09-02T12:10:35.675327",
     "exception": false,
     "start_time": "2021-09-02T12:10:35.614077",
     "status": "completed"
    },
    "tags": []
   },
   "outputs": [],
   "source": [
    "group1 = nx.bfs_tree(us_graph,'Obama')"
   ]
  },
  {
   "cell_type": "code",
   "execution_count": 32,
   "id": "e7c1ecda",
   "metadata": {
    "execution": {
     "iopub.execute_input": "2021-09-02T12:10:35.788526Z",
     "iopub.status.busy": "2021-09-02T12:10:35.787885Z",
     "iopub.status.idle": "2021-09-02T12:10:35.795041Z",
     "shell.execute_reply": "2021-09-02T12:10:35.795679Z",
     "shell.execute_reply.started": "2021-09-02T12:06:20.559427Z"
    },
    "papermill": {
     "duration": 0.065687,
     "end_time": "2021-09-02T12:10:35.795850",
     "exception": false,
     "start_time": "2021-09-02T12:10:35.730163",
     "status": "completed"
    },
    "tags": []
   },
   "outputs": [],
   "source": [
    "group2 = nx.bfs_tree(us_graph,'Bush')"
   ]
  },
  {
   "cell_type": "code",
   "execution_count": 33,
   "id": "3985c664",
   "metadata": {
    "execution": {
     "iopub.execute_input": "2021-09-02T12:10:35.911006Z",
     "iopub.status.busy": "2021-09-02T12:10:35.910167Z",
     "iopub.status.idle": "2021-09-02T12:10:35.913843Z",
     "shell.execute_reply": "2021-09-02T12:10:35.913139Z",
     "shell.execute_reply.started": "2021-09-02T12:06:36.774602Z"
    },
    "papermill": {
     "duration": 0.063214,
     "end_time": "2021-09-02T12:10:35.913980",
     "exception": false,
     "start_time": "2021-09-02T12:10:35.850766",
     "status": "completed"
    },
    "tags": []
   },
   "outputs": [],
   "source": [
    "group3 = nx.bfs_tree(us_graph,'Hillary')"
   ]
  },
  {
   "cell_type": "code",
   "execution_count": 34,
   "id": "7e2758d5",
   "metadata": {
    "execution": {
     "iopub.execute_input": "2021-09-02T12:10:36.029847Z",
     "iopub.status.busy": "2021-09-02T12:10:36.027871Z",
     "iopub.status.idle": "2021-09-02T12:10:36.315977Z",
     "shell.execute_reply": "2021-09-02T12:10:36.316643Z",
     "shell.execute_reply.started": "2021-09-02T12:06:56.604343Z"
    },
    "papermill": {
     "duration": 0.346381,
     "end_time": "2021-09-02T12:10:36.316825",
     "exception": false,
     "start_time": "2021-09-02T12:10:35.970444",
     "status": "completed"
    },
    "tags": []
   },
   "outputs": [
    {
     "data": {
      "image/png": "[encoded data removed]",
      "text/plain": [
       "<Figure size 432x288 with 1 Axes>"
      ]
     },
     "metadata": {},
     "output_type": "display_data"
    }
   ],
   "source": [
    "nx.draw_networkx(group1)"
   ]
  },
  {
   "cell_type": "code",
   "execution_count": 35,
   "id": "e349f1dd",
   "metadata": {
    "execution": {
     "iopub.execute_input": "2021-09-02T12:10:36.435182Z",
     "iopub.status.busy": "2021-09-02T12:10:36.434592Z",
     "iopub.status.idle": "2021-09-02T12:10:36.834673Z",
     "shell.execute_reply": "2021-09-02T12:10:36.835213Z",
     "shell.execute_reply.started": "2021-09-02T12:07:12.486980Z"
    },
    "papermill": {
     "duration": 0.46195,
     "end_time": "2021-09-02T12:10:36.835418",
     "exception": false,
     "start_time": "2021-09-02T12:10:36.373468",
     "status": "completed"
    },
    "tags": []
   },
   "outputs": [
    {
     "data": {
      "image/png": "[encoded data removed]",
      "text/plain": [
       "<Figure size 432x288 with 1 Axes>"
      ]
     },
     "metadata": {},
     "output_type": "display_data"
    }
   ],
   "source": [
    "nx.draw_networkx(group2)"
   ]
  },
  {
   "cell_type": "code",
   "execution_count": 36,
   "id": "13991355",
   "metadata": {
    "execution": {
     "iopub.execute_input": "2021-09-02T12:10:36.955656Z",
     "iopub.status.busy": "2021-09-02T12:10:36.954961Z",
     "iopub.status.idle": "2021-09-02T12:10:37.454489Z",
     "shell.execute_reply": "2021-09-02T12:10:37.454005Z",
     "shell.execute_reply.started": "2021-09-02T12:07:22.319787Z"
    },
    "papermill": {
     "duration": 0.56076,
     "end_time": "2021-09-02T12:10:37.454604",
     "exception": false,
     "start_time": "2021-09-02T12:10:36.893844",
     "status": "completed"
    },
    "tags": []
   },
   "outputs": [
    {
     "data": {
      "image/png": "[encoded data removed]",
      "text/plain": [
       "<Figure size 432x288 with 1 Axes>"
      ]
     },
     "metadata": {},
     "output_type": "display_data"
    }
   ],
   "source": [
    "nx.draw_networkx(group3)"
   ]
  },
  {
   "cell_type": "code",
   "execution_count": 37,
   "id": "5f38af73",
   "metadata": {
    "execution": {
     "iopub.execute_input": "2021-09-02T12:10:37.541500Z",
     "iopub.status.busy": "2021-09-02T12:10:37.540759Z",
     "iopub.status.idle": "2021-09-02T12:10:37.543640Z",
     "shell.execute_reply": "2021-09-02T12:10:37.544135Z",
     "shell.execute_reply.started": "2021-09-02T12:08:26.036916Z"
    },
    "papermill": {
     "duration": 0.049565,
     "end_time": "2021-09-02T12:10:37.544321",
     "exception": false,
     "start_time": "2021-09-02T12:10:37.494756",
     "status": "completed"
    },
    "tags": []
   },
   "outputs": [
    {
     "data": {
      "text/plain": [
       "{'\\tCindy',\n",
       " ' G.Bush ',\n",
       " ' Ivanka',\n",
       " 'Al Gore',\n",
       " 'Bill',\n",
       " 'Bush',\n",
       " 'Clinton',\n",
       " 'Dole',\n",
       " 'Hillary',\n",
       " 'Ivanka',\n",
       " 'J. Thorn',\n",
       " 'Kerry',\n",
       " 'Laura',\n",
       " 'McCain',\n",
       " 'Michelle',\n",
       " 'Obama',\n",
       " 'Romney',\n",
       " 'T.Aitcheson',\n",
       " 'Trump'}"
      ]
     },
     "execution_count": 37,
     "metadata": {},
     "output_type": "execute_result"
    }
   ],
   "source": [
    "nx.node_connected_component(us_graph,'Trump')"
   ]
  },
  {
   "cell_type": "code",
   "execution_count": 38,
   "id": "240e14ab",
   "metadata": {
    "execution": {
     "iopub.execute_input": "2021-09-02T12:10:37.667625Z",
     "iopub.status.busy": "2021-09-02T12:10:37.664409Z",
     "iopub.status.idle": "2021-09-02T12:10:37.672763Z",
     "shell.execute_reply": "2021-09-02T12:10:37.672186Z",
     "shell.execute_reply.started": "2021-09-02T12:09:04.075665Z"
    },
    "papermill": {
     "duration": 0.069821,
     "end_time": "2021-09-02T12:10:37.672909",
     "exception": false,
     "start_time": "2021-09-02T12:10:37.603088",
     "status": "completed"
    },
    "tags": []
   },
   "outputs": [
    {
     "data": {
      "text/plain": [
       "{'Clinton': 0,\n",
       " 'Hillary': 0.16666666666666666,\n",
       " 'Bush': 0,\n",
       " 'Laura': 0.3333333333333333,\n",
       " 'Obama': 0,\n",
       " 'Michelle': 0.16666666666666666,\n",
       " 'Trump': 0,\n",
       " ' Ivanka': 0,\n",
       " ' G.Bush ': 0,\n",
       " 'Dole': 0,\n",
       " 'Al Gore': 0,\n",
       " 'Kerry': 0,\n",
       " 'McCain': 0,\n",
       " 'Romney': 0,\n",
       " 'Bill': 0,\n",
       " 'Ivanka': 0,\n",
       " 'J. Thorn': 0,\n",
       " 'T.Aitcheson': 0,\n",
       " '\\tCindy': 0,\n",
       " 'Franklin': 0,\n",
       " 'Lincoln': 0}"
      ]
     },
     "execution_count": 38,
     "metadata": {},
     "output_type": "execute_result"
    }
   ],
   "source": [
    "# Association \n",
    "nx.clustering(us_graph)"
   ]
  },
  {
   "cell_type": "code",
   "execution_count": null,
   "id": "ab8d7198",
   "metadata": {
    "papermill": {
     "duration": 0.059851,
     "end_time": "2021-09-02T12:10:37.793242",
     "exception": false,
     "start_time": "2021-09-02T12:10:37.733391",
     "status": "completed"
    },
    "tags": []
   },
   "outputs": [],
   "source": []
  },
  {
   "cell_type": "code",
   "execution_count": null,
   "id": "549069f7",
   "metadata": {
    "papermill": {
     "duration": 0.058752,
     "end_time": "2021-09-02T12:10:37.911553",
     "exception": false,
     "start_time": "2021-09-02T12:10:37.852801",
     "status": "completed"
    },
    "tags": []
   },
   "outputs": [],
   "source": []
  },
  {
   "cell_type": "code",
   "execution_count": null,
   "id": "7e6e7580",
   "metadata": {
    "papermill": {
     "duration": 0.059246,
     "end_time": "2021-09-02T12:10:38.030107",
     "exception": false,
     "start_time": "2021-09-02T12:10:37.970861",
     "status": "completed"
    },
    "tags": []
   },
   "outputs": [],
   "source": []
  }
 ],
 "metadata": {
  "kernelspec": {
   "display_name": "Python 3 (ipykernel)",
   "language": "python",
   "name": "python3"
  },
  "language_info": {
   "codemirror_mode": {
    "name": "ipython",
    "version": 3
   },
   "file_extension": ".py",
   "mimetype": "text/x-python",
   "name": "python",
   "nbconvert_exporter": "python",
   "pygments_lexer": "ipython3",
   "version": "3.9.13"
  },
  "papermill": {
   "default_parameters": {},
   "duration": 16.825935,
   "end_time": "2021-09-02T12:10:39.000853",
   "environment_variables": {},
   "exception": null,
   "input_path": "__notebook__.ipynb",
   "output_path": "__notebook__.ipynb",
   "parameters": {},
   "start_time": "2021-09-02T12:10:22.174918",
   "version": "2.3.3"
  }
 },
 "nbformat": 4,
 "nbformat_minor": 5
}
